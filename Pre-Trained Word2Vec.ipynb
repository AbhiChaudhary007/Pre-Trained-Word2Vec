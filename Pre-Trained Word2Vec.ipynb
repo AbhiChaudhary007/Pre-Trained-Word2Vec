{
 "cells": [
  {
   "cell_type": "code",
   "execution_count": 1,
   "metadata": {
    "ExecuteTime": {
     "end_time": "2021-06-24T02:04:25.287898Z",
     "start_time": "2021-06-24T02:04:25.270948Z"
    }
   },
   "outputs": [],
   "source": [
    "from gensim.models import KeyedVectors"
   ]
  },
  {
   "cell_type": "code",
   "execution_count": 5,
   "metadata": {
    "ExecuteTime": {
     "end_time": "2021-06-24T02:13:12.797220Z",
     "start_time": "2021-06-24T02:12:25.011958Z"
    }
   },
   "outputs": [],
   "source": [
    "model = KeyedVectors.load_word2vec_format(r\"D:\\Python\\LB ML\\NLP\\GoogleNews-vectors-negative300.bin\", binary = True)"
   ]
  },
  {
   "cell_type": "code",
   "execution_count": 6,
   "metadata": {
    "ExecuteTime": {
     "end_time": "2021-06-24T02:31:45.578870Z",
     "start_time": "2021-06-24T02:31:45.196846Z"
    }
   },
   "outputs": [
    {
     "data": {
      "text/plain": [
       "0.59902996"
      ]
     },
     "execution_count": 6,
     "metadata": {},
     "output_type": "execute_result"
    }
   ],
   "source": [
    "model.similarity('simple','easy')"
   ]
  },
  {
   "cell_type": "code",
   "execution_count": 7,
   "metadata": {
    "ExecuteTime": {
     "end_time": "2021-06-24T02:32:20.643386Z",
     "start_time": "2021-06-24T02:32:20.633413Z"
    }
   },
   "outputs": [
    {
     "data": {
      "text/plain": [
       "0.32728544"
      ]
     },
     "execution_count": 7,
     "metadata": {},
     "output_type": "execute_result"
    }
   ],
   "source": [
    "model.similarity('possible','impossible')"
   ]
  },
  {
   "cell_type": "code",
   "execution_count": 8,
   "metadata": {
    "ExecuteTime": {
     "end_time": "2021-06-24T02:32:39.072471Z",
     "start_time": "2021-06-24T02:32:35.582326Z"
    }
   },
   "outputs": [
    {
     "data": {
      "text/plain": [
       "[('straightforward', 0.7460168600082397),\n",
       " ('Simple', 0.710817277431488),\n",
       " ('uncomplicated', 0.6297486424446106),\n",
       " ('simplest', 0.6171399354934692),\n",
       " ('easy', 0.5990298986434937),\n",
       " ('fairly_straightforward', 0.5893306732177734),\n",
       " ('deceptively_simple', 0.5743065476417542),\n",
       " ('simpler', 0.5537201166152954),\n",
       " ('simplistic', 0.5516539812088013),\n",
       " ('disarmingly_simple', 0.5365326404571533)]"
      ]
     },
     "execution_count": 8,
     "metadata": {},
     "output_type": "execute_result"
    }
   ],
   "source": [
    "model.most_similar('simple')"
   ]
  },
  {
   "cell_type": "code",
   "execution_count": null,
   "metadata": {},
   "outputs": [],
   "source": []
  }
 ],
 "metadata": {
  "kernelspec": {
   "display_name": "Python 3",
   "language": "python",
   "name": "python3"
  },
  "language_info": {
   "codemirror_mode": {
    "name": "ipython",
    "version": 3
   },
   "file_extension": ".py",
   "mimetype": "text/x-python",
   "name": "python",
   "nbconvert_exporter": "python",
   "pygments_lexer": "ipython3",
   "version": "3.8.3"
  }
 },
 "nbformat": 4,
 "nbformat_minor": 4
}
